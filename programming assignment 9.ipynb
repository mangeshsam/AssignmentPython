{
 "cells": [
  {
   "cell_type": "markdown",
   "id": "db7aacde",
   "metadata": {},
   "source": [
    "1. Write a Python program to check if the given number is a Disarium Number?"
   ]
  },
  {
   "cell_type": "code",
   "execution_count": 14,
   "id": "502b77c5",
   "metadata": {},
   "outputs": [
    {
     "name": "stdout",
     "output_type": "stream",
     "text": [
      "Enter a number to check if it's a Disarium number: 123\n",
      "123 is not a Disarium number.\n"
     ]
    }
   ],
   "source": [
    "def is_disarium(num):\n",
    "    str_num = str(num)\n",
    "    length = len(str_num)\n",
    "    \n",
    "    sum_digits = 0\n",
    "    \n",
    "    for i in range(length):\n",
    "        sum_digits += int(str_num[i]) ** (i + 1)\n",
    "    return sum_digits == num\n",
    "\n",
    "number = int(input(\"Enter a number to check if it's a Disarium number: \"))\n",
    "\n",
    "if is_disarium(number):\n",
    "    print(f\"{number} is a Disarium number.\")\n",
    "else:\n",
    "    print(f\"{number} is not a Disarium number.\")\n"
   ]
  },
  {
   "cell_type": "markdown",
   "id": "f395d799",
   "metadata": {},
   "source": [
    "   2. Write a Python program to print all disarium numbers between 1 to 100?"
   ]
  },
  {
   "cell_type": "code",
   "execution_count": 2,
   "id": "425c526d",
   "metadata": {},
   "outputs": [
    {
     "name": "stdout",
     "output_type": "stream",
     "text": [
      "Disarium numbers between 1 and 100 are\n",
      "1\n",
      "2\n",
      "3\n",
      "4\n",
      "5\n",
      "6\n",
      "7\n",
      "8\n",
      "9\n",
      "89\n"
     ]
    }
   ],
   "source": [
    "def calculateLength(n):    \n",
    "    length = 0\n",
    "    while(n != 0):    \n",
    "        length = length + 1  \n",
    "        n = n//10\n",
    "    return length \n",
    "     \n",
    "def sumOfDigits(num):    \n",
    "    rem = sum = 0;    \n",
    "    len = calculateLength(num)  \n",
    "        \n",
    "    while(num > 0):    \n",
    "        rem = num%10\n",
    "        sum = sum + (rem**len)   \n",
    "        num = num//10    \n",
    "        len = len - 1    \n",
    "    return sum;    \n",
    "      \n",
    "result = 0 \n",
    "      \n",
    "print(\"Disarium numbers between 1 and 100 are\")   \n",
    "for i in range(1, 101):    \n",
    "    result = sumOfDigits(i) \n",
    "        \n",
    "    if(result == i):    \n",
    "        print(i)"
   ]
  },
  {
   "cell_type": "markdown",
   "id": "2e1f6564",
   "metadata": {},
   "source": [
    "3. Write a Python program to check if the given number is Happy Number?"
   ]
  },
  {
   "cell_type": "code",
   "execution_count": 3,
   "id": "40a440ec",
   "metadata": {},
   "outputs": [
    {
     "name": "stdout",
     "output_type": "stream",
     "text": [
      "True\n",
      "True\n",
      "False\n"
     ]
    }
   ],
   "source": [
    "def is_Happy_num(n):\n",
    "    past = set()\n",
    "    while n != 1:\n",
    "        n = sum(int(i)**2 for i in str(n))\n",
    "        if n in past:\n",
    "            return False\n",
    "        past.add(n)\n",
    "    return True\n",
    "print(is_Happy_num(7))\n",
    "print(is_Happy_num(932))\n",
    "print(is_Happy_num(6))"
   ]
  },
  {
   "cell_type": "markdown",
   "id": "d8cdefc4",
   "metadata": {},
   "source": [
    "4. Write a Python program to print all happy numbers between 1 and 100?"
   ]
  },
  {
   "cell_type": "code",
   "execution_count": 3,
   "id": "9f72fb38",
   "metadata": {},
   "outputs": [
    {
     "name": "stdout",
     "output_type": "stream",
     "text": [
      "List of happy numbers between 1 and 100: \n",
      "1\n",
      " \n",
      "7\n",
      " \n",
      "10\n",
      " \n",
      "13\n",
      " \n",
      "19\n",
      " \n",
      "23\n",
      " \n",
      "28\n",
      " \n",
      "31\n",
      " \n",
      "32\n",
      " \n",
      "44\n",
      " \n",
      "49\n",
      " \n",
      "68\n",
      " \n",
      "70\n",
      " \n",
      "79\n",
      " \n",
      "82\n",
      " \n",
      "86\n",
      " \n",
      "91\n",
      " \n",
      "94\n",
      " \n",
      "97\n",
      " \n",
      "100\n",
      " \n"
     ]
    }
   ],
   "source": [
    "def isHappyNumber(num):    \n",
    "    rem = sum = 0\n",
    "   \n",
    "    while(num > 0):    \n",
    "        rem = num%10;    \n",
    "        sum = sum + (rem*rem)   \n",
    "        num = num//10\n",
    "    return sum\n",
    "   \n",
    "print(\"List of happy numbers between 1 and 100: \") \n",
    "for i in range(1, 101):    \n",
    "    result = i\n",
    "          \n",
    "    while(result != 1 and result != 4):    \n",
    "        result = isHappyNumber(result)   \n",
    "        \n",
    "    if(result == 1):    \n",
    "        print(i)    \n",
    "        print(\" \")  "
   ]
  },
  {
   "cell_type": "markdown",
   "id": "835f4c30",
   "metadata": {},
   "source": [
    "5. Write a Python program to determine whether the given number is a Harshad Number?"
   ]
  },
  {
   "cell_type": "code",
   "execution_count": 4,
   "id": "c78bb896",
   "metadata": {},
   "outputs": [
    {
     "name": "stdout",
     "output_type": "stream",
     "text": [
      "156 is a harshad number\n"
     ]
    }
   ],
   "source": [
    "num = 156 \n",
    "rem = sum = 0    \n",
    "n = num      \n",
    "while(num > 0):    \n",
    "    rem = num%10\n",
    "    sum = sum + rem\n",
    "    num = num//10   \n",
    "if(n%sum == 0):    \n",
    "    print(str(n) + \" is a harshad number\")  \n",
    "else:    \n",
    "    print(str(n) + \" is not a harshad number\")   "
   ]
  },
  {
   "cell_type": "markdown",
   "id": "93ce0d45",
   "metadata": {},
   "source": [
    "6. Write a Python program to print all pronic numbers between 1 and 100?"
   ]
  },
  {
   "cell_type": "code",
   "execution_count": 5,
   "id": "979a958f",
   "metadata": {},
   "outputs": [
    {
     "name": "stdout",
     "output_type": "stream",
     "text": [
      "Pronic numbers between 1 and 100: \n",
      "2\n",
      " \n",
      "6\n",
      " \n",
      "12\n",
      " \n",
      "20\n",
      " \n",
      "30\n",
      " \n",
      "42\n",
      " \n",
      "56\n",
      " \n",
      "72\n",
      " \n",
      "90\n",
      " \n"
     ]
    }
   ],
   "source": [
    "def isPronicNumber(num):    \n",
    "    flag = False\n",
    "        \n",
    "    for j in range(1, num+1):    \n",
    "       \n",
    "        if((j*(j+1)) == num):    \n",
    "            flag = True\n",
    "            break\n",
    "    return flag   \n",
    "     \n",
    "#Displays pronic numbers between 1 and 100    \n",
    "print(\"Pronic numbers between 1 and 100: \")  \n",
    "for i in range(1, 101):   \n",
    "    if(isPronicNumber(i)):    \n",
    "        print(i)\n",
    "        print(\" \")    "
   ]
  },
  {
   "cell_type": "code",
   "execution_count": null,
   "id": "c6f33059",
   "metadata": {},
   "outputs": [],
   "source": []
  }
 ],
 "metadata": {
  "kernelspec": {
   "display_name": "Python 3 (ipykernel)",
   "language": "python",
   "name": "python3"
  },
  "language_info": {
   "codemirror_mode": {
    "name": "ipython",
    "version": 3
   },
   "file_extension": ".py",
   "mimetype": "text/x-python",
   "name": "python",
   "nbconvert_exporter": "python",
   "pygments_lexer": "ipython3",
   "version": "3.11.4"
  }
 },
 "nbformat": 4,
 "nbformat_minor": 5
}
