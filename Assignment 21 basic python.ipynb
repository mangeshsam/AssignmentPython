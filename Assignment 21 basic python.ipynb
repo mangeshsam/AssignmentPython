{
 "cells": [
  {
   "cell_type": "markdown",
   "id": "d095d17d",
   "metadata": {},
   "source": [
    "1. Add the current date to the text file today.txt as a string."
   ]
  },
  {
   "cell_type": "code",
   "execution_count": 2,
   "id": "9fc69be0",
   "metadata": {},
   "outputs": [],
   "source": [
    "from datetime import date\n",
    "now =date.today()\n",
    "now_str=now.isoformat()\n",
    "with open(\"today.txt\",\"w\")as output:\n",
    "    print(now_str,file=output)"
   ]
  },
  {
   "cell_type": "markdown",
   "id": "f87c6a81",
   "metadata": {},
   "source": [
    "2 Read the text file today.txt into the string today_string"
   ]
  },
  {
   "cell_type": "code",
   "execution_count": 3,
   "id": "6a79a2f2",
   "metadata": {},
   "outputs": [
    {
     "data": {
      "text/plain": [
       "'2023-11-05\\n'"
      ]
     },
     "execution_count": 3,
     "metadata": {},
     "output_type": "execute_result"
    }
   ],
   "source": [
    "with open(\"today.txt\",\"r\")as input:\n",
    "    today_string=input.read()\n",
    "today_string"
   ]
  },
  {
   "cell_type": "markdown",
   "id": "774cbfb6",
   "metadata": {},
   "source": [
    "3. Parse the date from today_string."
   ]
  },
  {
   "cell_type": "code",
   "execution_count": 4,
   "id": "91838efc",
   "metadata": {},
   "outputs": [
    {
     "data": {
      "text/plain": [
       "datetime.datetime(2023, 1, 5, 0, 11)"
      ]
     },
     "execution_count": 4,
     "metadata": {},
     "output_type": "execute_result"
    }
   ],
   "source": [
    "from datetime import datetime\n",
    "fmt=\"%Y-%M-%d \\n\"\n",
    "datetime.strptime(today_string,fmt)"
   ]
  },
  {
   "cell_type": "markdown",
   "id": "8dec7970",
   "metadata": {},
   "source": [
    "4. List the files in your current directory"
   ]
  },
  {
   "cell_type": "code",
   "execution_count": 5,
   "id": "dc0c48a0",
   "metadata": {
    "scrolled": false
   },
   "outputs": [
    {
     "data": {
      "text/plain": [
       "['.bash_history',\n",
       " '.conda',\n",
       " '.condarc',\n",
       " '.config',\n",
       " '.continuum',\n",
       " '.cufflinks',\n",
       " '.idlerc',\n",
       " '.ipynb_checkpoints',\n",
       " '.ipython',\n",
       " '.jupyter',\n",
       " '.matplotlib',\n",
       " '.ms-ad',\n",
       " '.spyder-py3',\n",
       " '.vscode',\n",
       " '1.0.0',\n",
       " '10 dec python logging and debugginh .ipynb',\n",
       " '11 dec live class introduction to class and object 1.ipynb',\n",
       " '11 dec live class introduction to class and object 2.ipynb',\n",
       " '11 dec live class question assignment.ipynb',\n",
       " '14 jan live class mongodb_oops + entier opps concept oops day 1.ipynb',\n",
       " '14 jan live class mongodb_oops.ipynb',\n",
       " '15 jan live class oops day 2.ipynb',\n",
       " '17  dec live class Encapsulation.ipynb',\n",
       " '18 dec live class inheritance.ipynb',\n",
       " '21 jan live class oops question.ipynb',\n",
       " '21 jan live class oops task solution.ipynb',\n",
       " '26 nov question.ipynb',\n",
       " '27 jan live class pandas.ipynb',\n",
       " '27 nov decoretor.ipynb',\n",
       " '28 jan live class pandas 2.ipynb',\n",
       " '29 jan live class pandas and numpy-1.ipynb',\n",
       " '3 dec exception handling.ipynb',\n",
       " '3 dec live class exception handling.ipynb',\n",
       " '3D Objects',\n",
       " '4 Feb live class numpy and graph.ipynb',\n",
       " '4th dec file handling and iterator and generator.ipynb',\n",
       " '5 Feb live class flask api.ipynb',\n",
       " '7 jan live class SQL with Python.ipynb',\n",
       " '8 jan live class SQL + Mongodb.ipynb',\n",
       " 'abc.log',\n",
       " 'addresses.csv',\n",
       " 'airline.xls',\n",
       " 'airline1 (1).xls',\n",
       " 'airline1.xls',\n",
       " 'anaconda3',\n",
       " 'analog clock .ipynb',\n",
       " 'AppData',\n",
       " 'Application Data',\n",
       " 'Assignment 12 basic python.ipynb',\n",
       " 'Assignment 13 basic python.ipynb',\n",
       " 'Assignment 14 basic python.ipynb',\n",
       " 'Assignment 15 basic python.ipynb',\n",
       " 'Assignment 17 basic python.ipynb',\n",
       " 'Assignment 18 basic python.ipynb',\n",
       " 'Assignment 19 basic python.ipynb',\n",
       " 'Assignment 20 basic python.ipynb',\n",
       " 'Assignment 21 basic python.ipynb',\n",
       " 'Assignment_16_basic_python.ipynb',\n",
       " 'base.html',\n",
       " 'basicHtml.html',\n",
       " 'books.csv',\n",
       " 'books.db',\n",
       " 'child.txt',\n",
       " 'Contacts',\n",
       " 'contacts.csv',\n",
       " 'Cookies',\n",
       " 'data.txt',\n",
       " 'demo.log',\n",
       " 'demo2.log',\n",
       " 'demo4.log',\n",
       " 'demo6.log',\n",
       " 'Desktop',\n",
       " 'DEXTOP',\n",
       " 'Documents',\n",
       " 'employee.ipynb',\n",
       " 'employee.log',\n",
       " 'employee.py',\n",
       " 'example.ipynb',\n",
       " 'example.py',\n",
       " 'example_filecopy.ipynb',\n",
       " 'Favorites',\n",
       " 'filemode.log',\n",
       " 'file_calss.log',\n",
       " 'file_class.log',\n",
       " 'file_class1.log',\n",
       " 'flipkart_scrapping',\n",
       " 'holiday_schedules.csv',\n",
       " 'html',\n",
       " 'htmlfile',\n",
       " 'index.html',\n",
       " 'ineuron.txt',\n",
       " 'IntelGraphicsProfiles',\n",
       " 'Jedi',\n",
       " 'Links',\n",
       " 'list.log',\n",
       " 'Local Settings',\n",
       " 'locations.csv',\n",
       " 'LUSID Excel - Manage Orders.xlsx',\n",
       " 'mail_addresses.csv',\n",
       " 'main.css',\n",
       " 'man.txt',\n",
       " 'man1.txt',\n",
       " 'manges1.txt',\n",
       " 'manges2.txt',\n",
       " 'manges3.txt',\n",
       " 'mangesh.txt',\n",
       " 'mangesh1.txt',\n",
       " 'mongo.log',\n",
       " 'mongodb.log',\n",
       " 'multipal loop .ipynb',\n",
       " 'Music',\n",
       " 'My Documents',\n",
       " 'mydatabase.db',\n",
       " 'NetHood',\n",
       " 'new question in multipal loop.ipynb',\n",
       " 'new_files',\n",
       " 'NTUSER.DAT',\n",
       " 'ntuser.dat.LOG1',\n",
       " 'ntuser.dat.LOG2',\n",
       " 'NTUSER.DAT{53b39e88-18c4-11ea-a811-000d3aa4692b}.TM.blf',\n",
       " 'NTUSER.DAT{53b39e88-18c4-11ea-a811-000d3aa4692b}.TMContainer00000000000000000001.regtrans-ms',\n",
       " 'NTUSER.DAT{53b39e88-18c4-11ea-a811-000d3aa4692b}.TMContainer00000000000000000002.regtrans-ms',\n",
       " 'ntuser.ini',\n",
       " 'OneDrive',\n",
       " 'organizations.csv',\n",
       " 'part 1 solutions 50 que solution.ipynb',\n",
       " 'part 1 solutions.ipynb',\n",
       " \"part 2 solutions Task's 1,2,3,4.ipynb\",\n",
       " 'part 2 solutions.ipynb',\n",
       " 'patterns.ipynb',\n",
       " 'phones.csv',\n",
       " 'Pictures',\n",
       " 'players.csv',\n",
       " 'Postman',\n",
       " 'PrintHood',\n",
       " 'programming assignment 1.ipynb',\n",
       " 'programming assignment 2.ipynb',\n",
       " 'programs.csv',\n",
       " 'python files',\n",
       " 'questions 50 all.ipynb',\n",
       " 'Recent',\n",
       " 'record_from_mongo.log',\n",
       " 'regular_schedules.csv',\n",
       " 'result.html',\n",
       " 'sam.txt',\n",
       " 'Saved Games',\n",
       " 'saveToFile.ipynb',\n",
       " 'saveToFile.log',\n",
       " 'saveToFile.py',\n",
       " 'scrapper_new',\n",
       " 'ScStore',\n",
       " 'Searches',\n",
       " 'SendTo',\n",
       " 'services.csv',\n",
       " 'SQL .tsql',\n",
       " 'Start Menu',\n",
       " 'static',\n",
       " 'Sti_Trace.log',\n",
       " 'style.css',\n",
       " 'Task 1 2 3 4 solve problem .ipynb',\n",
       " 'Task 1 solution .ipynb',\n",
       " 'taxonomy.csv',\n",
       " 'template',\n",
       " 'Templates',\n",
       " 'test.png',\n",
       " 'test.txt',\n",
       " 'test1.csv',\n",
       " 'test2.csv',\n",
       " 'test2.xlsx',\n",
       " 'test3.txt',\n",
       " 'test4.txt',\n",
       " 'test44.txt',\n",
       " 'testt.txt',\n",
       " 'text.txt',\n",
       " 'today.txt',\n",
       " 'Untitled.ipynb',\n",
       " 'Videos',\n",
       " 'WebComponents',\n",
       " 'youtube',\n",
       " 'youtube.code-workspace',\n",
       " '__pycache__']"
      ]
     },
     "execution_count": 5,
     "metadata": {},
     "output_type": "execute_result"
    }
   ],
   "source": [
    "import os\n",
    "os.listdir('.')"
   ]
  },
  {
   "cell_type": "markdown",
   "id": "d5f06d63",
   "metadata": {},
   "source": [
    "5. Create a list of all of the files in your parent directory (minimum five files should be available)."
   ]
  },
  {
   "cell_type": "code",
   "execution_count": 6,
   "id": "ee4ec724",
   "metadata": {},
   "outputs": [
    {
     "data": {
      "text/plain": [
       "['adm1', 'All Users', 'Default', 'Default User', 'desktop.ini', 'hp', 'Public']"
      ]
     },
     "execution_count": 6,
     "metadata": {},
     "output_type": "execute_result"
    }
   ],
   "source": [
    "os.listdir('..')"
   ]
  },
  {
   "cell_type": "markdown",
   "id": "3fc2e5eb",
   "metadata": {},
   "source": [
    "6. Use multiprocessing to create three separate processes. Make each one wait a random number of seconds between one and five, print the current time, and then exit."
   ]
  },
  {
   "cell_type": "code",
   "execution_count": 8,
   "id": "1c8f7b3a",
   "metadata": {},
   "outputs": [
    {
     "name": "stderr",
     "output_type": "stream",
     "text": [
      "python: can't open file 'C:\\\\Users\\\\adm1\\\\multi_process.py': [Errno 2] No such file or directory\n"
     ]
    }
   ],
   "source": [
    "!python multi_process.py"
   ]
  },
  {
   "cell_type": "markdown",
   "id": "892acb52",
   "metadata": {},
   "source": [
    "7. Create a date object of your day of birth."
   ]
  },
  {
   "cell_type": "code",
   "execution_count": 9,
   "id": "fc37c026",
   "metadata": {},
   "outputs": [
    {
     "data": {
      "text/plain": [
       "datetime.date(1996, 8, 10)"
      ]
     },
     "execution_count": 9,
     "metadata": {},
     "output_type": "execute_result"
    }
   ],
   "source": [
    "my_day = date(1996, 8, 10)\n",
    "my_day"
   ]
  },
  {
   "cell_type": "markdown",
   "id": "e733f138",
   "metadata": {},
   "source": [
    "8. What day of the week was your day of birth?"
   ]
  },
  {
   "cell_type": "code",
   "execution_count": null,
   "id": "6f1ec6ed",
   "metadata": {},
   "outputs": [],
   "source": [
    "With weekday(), Monday is 0 and Sunday is 6. With isoweekday(), Monday is 1 and"
   ]
  },
  {
   "cell_type": "code",
   "execution_count": null,
   "id": "aa5bb2cf",
   "metadata": {},
   "outputs": [],
   "source": [
    "Sunday is 7. Therefore, this date is a Saturday."
   ]
  },
  {
   "cell_type": "code",
   "execution_count": 10,
   "id": "01c18d9c",
   "metadata": {},
   "outputs": [
    {
     "data": {
      "text/plain": [
       "5"
      ]
     },
     "execution_count": 10,
     "metadata": {},
     "output_type": "execute_result"
    }
   ],
   "source": [
    "my_day.weekday()"
   ]
  },
  {
   "cell_type": "code",
   "execution_count": 11,
   "id": "dba3fbc7",
   "metadata": {},
   "outputs": [
    {
     "data": {
      "text/plain": [
       "6"
      ]
     },
     "execution_count": 11,
     "metadata": {},
     "output_type": "execute_result"
    }
   ],
   "source": [
    "my_day.isoweekday()"
   ]
  },
  {
   "cell_type": "markdown",
   "id": "1e0e22d3",
   "metadata": {},
   "source": [
    "10 When will you be (or when were you) 10,000 days old?"
   ]
  },
  {
   "cell_type": "code",
   "execution_count": 12,
   "id": "4b9f243c",
   "metadata": {},
   "outputs": [
    {
     "data": {
      "text/plain": [
       "datetime.date(2023, 12, 27)"
      ]
     },
     "execution_count": 12,
     "metadata": {},
     "output_type": "execute_result"
    }
   ],
   "source": [
    "from datetime import timedelta\n",
    "ten_thousand = my_day + timedelta(days=10000)\n",
    "ten_thousand"
   ]
  },
  {
   "cell_type": "code",
   "execution_count": null,
   "id": "254c5c6e",
   "metadata": {},
   "outputs": [],
   "source": []
  },
  {
   "cell_type": "code",
   "execution_count": null,
   "id": "b12a4528",
   "metadata": {},
   "outputs": [],
   "source": []
  }
 ],
 "metadata": {
  "kernelspec": {
   "display_name": "Python 3 (ipykernel)",
   "language": "python",
   "name": "python3"
  },
  "language_info": {
   "codemirror_mode": {
    "name": "ipython",
    "version": 3
   },
   "file_extension": ".py",
   "mimetype": "text/x-python",
   "name": "python",
   "nbconvert_exporter": "python",
   "pygments_lexer": "ipython3",
   "version": "3.11.4"
  }
 },
 "nbformat": 4,
 "nbformat_minor": 5
}
