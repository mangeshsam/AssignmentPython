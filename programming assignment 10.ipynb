{
 "cells": [
  {
   "cell_type": "markdown",
   "id": "0962ce36",
   "metadata": {},
   "source": [
    "1. Write a Python program to find sum of elements in list?"
   ]
  },
  {
   "cell_type": "code",
   "execution_count": 11,
   "id": "b118fd59",
   "metadata": {},
   "outputs": [
    {
     "name": "stdout",
     "output_type": "stream",
     "text": [
      "sum of all element in list is 33\n"
     ]
    }
   ],
   "source": [
    "total=0\n",
    "list1=[2,3,5,6,9,8]\n",
    "\n",
    "for i in range(0,len(list1)):\n",
    "    total = total + list1[i]\n",
    "    \n",
    "print(f\"sum of all element in list is {total}\")"
   ]
  },
  {
   "cell_type": "markdown",
   "id": "bdcfb209",
   "metadata": {},
   "source": [
    "2. Write a Python program to Multiply all numbers in the list?"
   ]
  },
  {
   "cell_type": "code",
   "execution_count": 12,
   "id": "ec5f11e3",
   "metadata": {},
   "outputs": [
    {
     "name": "stdout",
     "output_type": "stream",
     "text": [
      "sum of all element in list is 12960\n"
     ]
    }
   ],
   "source": [
    "total=1\n",
    "list1=[2,3,5,6,9,8]\n",
    "\n",
    "for i in range(0,len(list1)):\n",
    "    total = total * list1[i]\n",
    "    \n",
    "print(f\"sum of all multiplication of element  {total}\")"
   ]
  },
  {
   "cell_type": "markdown",
   "id": "eefdc577",
   "metadata": {},
   "source": [
    "3. Write a Python program to find smallest number in a list?"
   ]
  },
  {
   "cell_type": "code",
   "execution_count": 23,
   "id": "0b07b710",
   "metadata": {},
   "outputs": [
    {
     "name": "stdout",
     "output_type": "stream",
     "text": [
      "print the smallest element of list1 2\n"
     ]
    }
   ],
   "source": [
    "list1=[2,3,5,6,9,8]\n",
    "smallest =list1[0]\n",
    "for i in range(0,len(list1)):\n",
    "    if list1[i]<= smallest:\n",
    "        smallest=list1[i]\n",
    "        print(f\"print the smallest element of list1 {smallest}\")"
   ]
  },
  {
   "cell_type": "code",
   "execution_count": 15,
   "id": "4453ef62",
   "metadata": {},
   "outputs": [
    {
     "name": "stdout",
     "output_type": "stream",
     "text": [
      "Print the smallest number in a list is 2\n"
     ]
    }
   ],
   "source": [
    "list1=[2,3,5,6,9,8]\n",
    "list1.sort()\n",
    "print(f\"Print the smallest number in a list is {list1[0]}\")"
   ]
  },
  {
   "cell_type": "markdown",
   "id": "f0ea2c94",
   "metadata": {},
   "source": [
    "4. Write a Python program to find largest number in a list?"
   ]
  },
  {
   "cell_type": "code",
   "execution_count": 43,
   "id": "63c95bd5",
   "metadata": {},
   "outputs": [
    {
     "name": "stdout",
     "output_type": "stream",
     "text": [
      "print the largest element of list1 65\n"
     ]
    }
   ],
   "source": [
    "list1=[2,3,5,65,6,9,8]\n",
    "largest =list1[0]\n",
    "for i in range(1,len(list1)):\n",
    "    if list1[i]> largest:\n",
    "        largest=list1[i]\n",
    "print(f\"print the largest element of list1 {largest}\")"
   ]
  },
  {
   "cell_type": "code",
   "execution_count": 42,
   "id": "181425d6",
   "metadata": {},
   "outputs": [
    {
     "name": "stdout",
     "output_type": "stream",
     "text": [
      "Print the largest number in a list is 55\n"
     ]
    }
   ],
   "source": [
    "list1=[2,3,55,5,6,9,8]\n",
    "largest=max(list1)\n",
    "print(f\"Print the largest number in a list is {largest}\")"
   ]
  },
  {
   "cell_type": "markdown",
   "id": "49d53721",
   "metadata": {},
   "source": [
    "5. Write a Python program to find second largest number in a list?"
   ]
  },
  {
   "cell_type": "code",
   "execution_count": 40,
   "id": "f1f47a2a",
   "metadata": {},
   "outputs": [
    {
     "name": "stdout",
     "output_type": "stream",
     "text": [
      "print the second largest element of list1 9\n",
      "print the largest element of list1 65\n"
     ]
    }
   ],
   "source": [
    "list1=[2,3,5,65,6,9,8]\n",
    "largest =list1[0]\n",
    "second_largest = list1[0]\n",
    "for i in range(1,len(list1)):\n",
    "    if list1[i]> largest:\n",
    "        second_largest=largest\n",
    "        largest=list1[i]\n",
    "    elif list1[i]>second_largest and list1[i] !=largest:\n",
    "        second_largest=list1[i]\n",
    "print(f\"print the second largest element of list1 {second_largest}\")\n",
    "print(f\"print the largest element of list1 {largest}\")"
   ]
  },
  {
   "cell_type": "code",
   "execution_count": 41,
   "id": "e97199cd",
   "metadata": {},
   "outputs": [
    {
     "name": "stdout",
     "output_type": "stream",
     "text": [
      "print the second largest element 9\n"
     ]
    }
   ],
   "source": [
    "list1=[2,3,5,65,6,9,8]\n",
    "second_largest =sorted(list1,reverse=True)[1]\n",
    "print(\"print the second largest element\", second_largest)"
   ]
  },
  {
   "cell_type": "markdown",
   "id": "b4c35ee1",
   "metadata": {},
   "source": [
    "6. Write a Python program to find N largest elements from a list?"
   ]
  },
  {
   "cell_type": "code",
   "execution_count": 3,
   "id": "10f8dacb",
   "metadata": {},
   "outputs": [
    {
     "name": "stdout",
     "output_type": "stream",
     "text": [
      "[85, 41]\n"
     ]
    }
   ],
   "source": [
    "def Nmaxelements(list1, N):\n",
    "    final_list = []\n",
    "\n",
    "    for i in range(0, N):\n",
    "        max1 = 0\n",
    "\n",
    "        for j in range(len(list1)):\n",
    "            if list1[j] > max1:\n",
    "                max1 = list1[j]\n",
    "\n",
    "        list1.remove(max1)\n",
    "        final_list.append(max1)\n",
    "\n",
    "    print(final_list)\n",
    "\n",
    "list1 = [2, 6, 41, 85, 0, 3, 7, 6, 10]\n",
    "N = 2\n",
    "Nmaxelements(list1, N)\n"
   ]
  },
  {
   "cell_type": "markdown",
   "id": "1acb2785",
   "metadata": {},
   "source": [
    "7. Write a Python program to print even numbers in a list?"
   ]
  },
  {
   "cell_type": "code",
   "execution_count": 4,
   "id": "71005bbc",
   "metadata": {},
   "outputs": [
    {
     "name": "stdout",
     "output_type": "stream",
     "text": [
      "10 4 66 "
     ]
    }
   ],
   "source": [
    "list1 = [10, 21, 4, 45, 66, 93]\n",
    "\n",
    "for num in list1:\n",
    "\n",
    "    if num % 2 == 0:\n",
    "        print(num, end=\" \")\n"
   ]
  },
  {
   "cell_type": "markdown",
   "id": "f91391c8",
   "metadata": {},
   "source": [
    "8. Write a Python program to print odd numbers in a List?"
   ]
  },
  {
   "cell_type": "code",
   "execution_count": 5,
   "id": "69930c00",
   "metadata": {},
   "outputs": [
    {
     "name": "stdout",
     "output_type": "stream",
     "text": [
      "21 45 93 "
     ]
    }
   ],
   "source": [
    "list1 = [10, 21, 4, 45, 66, 93]\n",
    "\n",
    "for num in list1:\n",
    "\n",
    "    if num % 2 != 0:\n",
    "        print(num, end=\" \")"
   ]
  },
  {
   "cell_type": "markdown",
   "id": "2821db90",
   "metadata": {},
   "source": [
    "9. Write a Python program to Remove empty List from List?"
   ]
  },
  {
   "cell_type": "code",
   "execution_count": 7,
   "id": "749ca249",
   "metadata": {},
   "outputs": [
    {
     "name": "stdout",
     "output_type": "stream",
     "text": [
      "The original list is :  [5, 6, [], [], 56, []]\n",
      "List after empty list remover:  [5, 6, 56]\n"
     ]
    }
   ],
   "source": [
    "test = [5,6,[],[],56,[]]\n",
    "print(\"The original list is : \" ,test)\n",
    "result = [ele for ele in test if ele != []]\n",
    "print(\"List after empty list remover: \",result)"
   ]
  },
  {
   "cell_type": "markdown",
   "id": "dc12c0c2",
   "metadata": {},
   "source": [
    "10. Write a Python program to Cloning or Copying a list?"
   ]
  },
  {
   "cell_type": "code",
   "execution_count": 10,
   "id": "283b3c00",
   "metadata": {},
   "outputs": [
    {
     "name": "stdout",
     "output_type": "stream",
     "text": [
      "orignal list is : [4, 8, 2, 10, 15, 18]\n",
      "clonning list is : [4, 8, 2, 10, 15, 18]\n"
     ]
    }
   ],
   "source": [
    "li1 = [4, 8, 2, 10, 15, 18]\n",
    "li_copy=li1\n",
    "print(\"orignal list is :\",li1)\n",
    "print(\"clonning list is :\",li_copy)"
   ]
  },
  {
   "cell_type": "code",
   "execution_count": 11,
   "id": "2196b251",
   "metadata": {},
   "outputs": [
    {
     "name": "stdout",
     "output_type": "stream",
     "text": [
      "Original List: [4, 8, 2, 10, 15, 18]\n",
      "After Cloning: [4, 8, 2, 10, 15, 18]\n"
     ]
    }
   ],
   "source": [
    "def Cloning(li1):\n",
    "    li_copy = li1[:]\n",
    "    return li_copy\n",
    "\n",
    "li1 = [4, 8, 2, 10, 15, 18]\n",
    "li2 = Cloning(li1)\n",
    "print(\"Original List:\", li1)\n",
    "print(\"After Cloning:\", li2)\n"
   ]
  },
  {
   "cell_type": "markdown",
   "id": "755720a1",
   "metadata": {},
   "source": [
    "11. Write a Python program to Count occurrences of an element in a list?"
   ]
  },
  {
   "cell_type": "code",
   "execution_count": 18,
   "id": "83b814a4",
   "metadata": {},
   "outputs": [
    {
     "name": "stdout",
     "output_type": "stream",
     "text": [
      "8  has occurred 5  items\n"
     ]
    }
   ],
   "source": [
    "lst = [8, 6, 8, 10, 8, 20, 10, 8, 8]\n",
    "x = 8\n",
    "count = 0\n",
    "for ele in lst:\n",
    "    if (ele == x):\n",
    "        count = count + 1\n",
    "print(x,\" has occurred\",count,\" items\")"
   ]
  },
  {
   "cell_type": "code",
   "execution_count": 17,
   "id": "68ce9958",
   "metadata": {},
   "outputs": [
    {
     "name": "stdout",
     "output_type": "stream",
     "text": [
      "8 has occurred 5 times\n"
     ]
    }
   ],
   "source": [
    "\n",
    "def countX(lst, x):\n",
    "    count = 0\n",
    "    for ele in lst:\n",
    "        if (ele == x):\n",
    "            count = count + 1\n",
    "    return count\n",
    "\n",
    "\n",
    "# Driver Code\n",
    "lst = [8, 6, 8, 10, 8, 20, 10, 8, 8]\n",
    "x = 8\n",
    "print('{} has occurred {} times'.format(x,countX(lst, x)))\n"
   ]
  },
  {
   "cell_type": "code",
   "execution_count": null,
   "id": "caa391fc",
   "metadata": {},
   "outputs": [],
   "source": []
  }
 ],
 "metadata": {
  "kernelspec": {
   "display_name": "Python 3 (ipykernel)",
   "language": "python",
   "name": "python3"
  },
  "language_info": {
   "codemirror_mode": {
    "name": "ipython",
    "version": 3
   },
   "file_extension": ".py",
   "mimetype": "text/x-python",
   "name": "python",
   "nbconvert_exporter": "python",
   "pygments_lexer": "ipython3",
   "version": "3.11.4"
  }
 },
 "nbformat": 4,
 "nbformat_minor": 5
}
