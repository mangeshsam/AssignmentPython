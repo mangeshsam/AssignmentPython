{
 "cells": [
  {
   "cell_type": "markdown",
   "id": "840d4d29",
   "metadata": {},
   "source": [
    "1. Write a Python Program to Display Fibonacci Sequence Using Recursion?"
   ]
  },
  {
   "cell_type": "code",
   "execution_count": 4,
   "id": "0ac515a9",
   "metadata": {},
   "outputs": [
    {
     "name": "stdout",
     "output_type": "stream",
     "text": [
      "Enter the fibonacci no.: 5\n",
      "0 Fibonacci term is:  0\n",
      "1 Fibonacci term is:  1\n",
      "2 Fibonacci term is:  1\n",
      "3 Fibonacci term is:  2\n",
      "4 Fibonacci term is:  3\n",
      "5 Fibonacci term is:  5\n"
     ]
    }
   ],
   "source": [
    "def fibonacci(N):\n",
    "    if N == 0:\n",
    "        return 0\n",
    "\n",
    "    elif N == 1:\n",
    "        return 1\n",
    "\n",
    "    return fibonacci(N - 1) + fibonacci(N - 2)\n",
    "\n",
    "\n",
    "if __name__ == '__main__':\n",
    "    N=int(input(\"Enter the fibonacci no.: \"))\n",
    "    for i in range(N + 1):\n",
    "        print(f\"{i} Fibonacci term is: \", fibonacci(i))\n",
    "\n"
   ]
  },
  {
   "cell_type": "markdown",
   "id": "88f1637a",
   "metadata": {},
   "source": [
    "2. Write a Python Program to Find Factorial of Number Using Recursion?"
   ]
  },
  {
   "cell_type": "code",
   "execution_count": 7,
   "id": "a5914de0",
   "metadata": {},
   "outputs": [
    {
     "name": "stdout",
     "output_type": "stream",
     "text": [
      "Enter factorial number: 5\n",
      "The factorial of 5 is 120\n"
     ]
    }
   ],
   "source": [
    "# Factorial of a number using recursion\n",
    "\n",
    "def recur_factorial(n):\n",
    "    if n == 1:\n",
    "        return n\n",
    "    else:\n",
    "        return n*recur_factorial(n-1)\n",
    "\n",
    "num =int(input(\"Enter factorial number: \"))\n",
    "\n",
    "if num < 0:\n",
    "    print(\"Sorry, factorial does not exist for negative numbers\")\n",
    "elif num == 0:\n",
    "    print(\"The factorial of 0 is 1\")\n",
    "else:\n",
    "    print(\"The factorial of\", num, \"is\", recur_factorial(num))\n"
   ]
  },
  {
   "cell_type": "markdown",
   "id": "3da03f4d",
   "metadata": {},
   "source": [
    "3. Write a Python Program to calculate your Body Mass Index?"
   ]
  },
  {
   "cell_type": "code",
   "execution_count": 1,
   "id": "b6e4b864",
   "metadata": {},
   "outputs": [
    {
     "name": "stdout",
     "output_type": "stream",
     "text": [
      "Input your height in Feet: 5.6\n",
      "Input your weight in Kilograms: 47.9\n",
      "Your body mass index is:  1.53\n"
     ]
    }
   ],
   "source": [
    "height = float(input(\"Input your height in Feet: \"))\n",
    "\n",
    "weight = float(input(\"Input your weight in Kilograms: \"))\n",
    "bmi = weight / (height * height)\n",
    "rounded_bmi = round(bmi, 2)\n",
    "print(\"Your body mass index is: \", rounded_bmi)"
   ]
  },
  {
   "cell_type": "markdown",
   "id": "ef261c67",
   "metadata": {},
   "source": [
    "4. Write a Python Program to calculate the natural logarithm of any number?"
   ]
  },
  {
   "cell_type": "code",
   "execution_count": 2,
   "id": "081c9176",
   "metadata": {},
   "outputs": [
    {
     "name": "stdout",
     "output_type": "stream",
     "text": [
      "1.0\n",
      "0.0\n",
      "2.302585092994046\n"
     ]
    }
   ],
   "source": [
    "import math\n",
    "\n",
    "print(math.log(math.e))\n",
    "print(math.log(1))\n",
    "print(math.log(10))"
   ]
  },
  {
   "cell_type": "markdown",
   "id": "62783aa4",
   "metadata": {},
   "source": [
    "5. Write a Python Program for cube sum of first n natural numbers?"
   ]
  },
  {
   "cell_type": "code",
   "execution_count": 4,
   "id": "466eb9b1",
   "metadata": {},
   "outputs": [],
   "source": [
    "def sumofsurface(n):\n",
    "    sum = 0\n",
    "    for i in range(1, n + 1):\n",
    "        sum += i * i*i\n",
    "         \n",
    "    return sum\n",
    "n = 5\n",
    "\n",
    " "
   ]
  },
  {
   "cell_type": "code",
   "execution_count": 5,
   "id": "9261f718",
   "metadata": {},
   "outputs": [
    {
     "name": "stdout",
     "output_type": "stream",
     "text": [
      "225\n"
     ]
    }
   ],
   "source": [
    "print(sumofsurface(n))"
   ]
  },
  {
   "cell_type": "code",
   "execution_count": null,
   "id": "bbc6d682",
   "metadata": {},
   "outputs": [],
   "source": []
  }
 ],
 "metadata": {
  "kernelspec": {
   "display_name": "Python 3 (ipykernel)",
   "language": "python",
   "name": "python3"
  },
  "language_info": {
   "codemirror_mode": {
    "name": "ipython",
    "version": 3
   },
   "file_extension": ".py",
   "mimetype": "text/x-python",
   "name": "python",
   "nbconvert_exporter": "python",
   "pygments_lexer": "ipython3",
   "version": "3.11.4"
  }
 },
 "nbformat": 4,
 "nbformat_minor": 5
}
