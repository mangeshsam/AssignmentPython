{
 "cells": [
  {
   "cell_type": "markdown",
   "id": "aa2e9295",
   "metadata": {},
   "source": [
    "1. Write a Python program to Extract Unique values dictionary values?"
   ]
  },
  {
   "cell_type": "code",
   "execution_count": 3,
   "id": "a1775397",
   "metadata": {},
   "outputs": [
    {
     "name": "stdout",
     "output_type": "stream",
     "text": [
      "The original dictionary is :  {'A': [5, 6, 7, 8], 'B': [10, 11, 7, 5], 'C': [6, 12, 10, 8], 'D': [1, 2, 3]}\n",
      "The unique values list is :  [1, 2, 3, 5, 6, 7, 8, 10, 11, 12]\n"
     ]
    }
   ],
   "source": [
    "from itertools import chain\n",
    "test_dict={\n",
    "    \"A\":[5,6,7,8],\n",
    "    \"B\":[10,11,7,5],\n",
    "    \"C\":[6,12,10,8],\n",
    "    \"D\":[1,2,3]\n",
    "}\n",
    "print(\"The original dictionary is : \",str(test_dict))\n",
    "res=list(sorted(set(chain(*test_dict.values()))))\n",
    "print(\"The unique values list is : \", str(res))"
   ]
  },
  {
   "cell_type": "markdown",
   "id": "304af350",
   "metadata": {},
   "source": [
    "2. Write a Python program to find the sum of all items in a dictionary?"
   ]
  },
  {
   "cell_type": "code",
   "execution_count": 6,
   "id": "da0b26d0",
   "metadata": {},
   "outputs": [
    {
     "name": "stdout",
     "output_type": "stream",
     "text": [
      "sum : 600\n"
     ]
    }
   ],
   "source": [
    "def sumofValue(myDict):\n",
    "    list=[]\n",
    "    for i in myDict:\n",
    "        list.append(myDict[i])\n",
    "    final=sum(list)\n",
    "    return final\n",
    "\n",
    "dict={\"a\":100,\"b\":200,\"c\":300}\n",
    "print(\"sum :\",sumofValue(dict))"
   ]
  },
  {
   "cell_type": "markdown",
   "id": "2e424e98",
   "metadata": {},
   "source": [
    "3. Write a Python program to Merging two Dictionaries?"
   ]
  },
  {
   "cell_type": "code",
   "execution_count": 7,
   "id": "a83cf76e",
   "metadata": {},
   "outputs": [
    {
     "name": "stdout",
     "output_type": "stream",
     "text": [
      "None\n",
      "{'d': 6, 'c': 4, 'a': 10, 'b': 8}\n"
     ]
    }
   ],
   "source": [
    "def Merge(dict1, dict2):\n",
    "    return(dict2.update(dict1))\n",
    "\n",
    "dict1 = {'a': 10, 'b': 8}\n",
    "dict2 = {'d': 6, 'c': 4}\n",
    "\n",
    "print(Merge(dict1, dict2))\n",
    "\n",
    "print(dict2)\n"
   ]
  },
  {
   "cell_type": "markdown",
   "id": "ccaf6f99",
   "metadata": {},
   "source": [
    "4. Write a Python program to convert key-values list to flat dictionary?"
   ]
  },
  {
   "cell_type": "code",
   "execution_count": 8,
   "id": "e6a62f1d",
   "metadata": {},
   "outputs": [
    {
     "name": "stdout",
     "output_type": "stream",
     "text": [
      "The original dictionary is :  {'month': [1, 2, 3], 'name': ['Jan', 'Feb', 'March']}\n",
      "Flattened dictionary :  {1: 'Jan', 2: 'Feb', 3: 'March'}\n"
     ]
    }
   ],
   "source": [
    "test_dict = {'month' : [1, 2, 3],\n",
    "            'name' : ['Jan', 'Feb', 'March']}\n",
    "\n",
    "print(\"The original dictionary is : \" , str(test_dict))\n",
    "\n",
    "res = {}\n",
    "for i in range(len(test_dict['month'])):\n",
    "    res[test_dict['month'][i]] = test_dict['name'][i]\n",
    "\n",
    "print(\"Flattened dictionary : \" ,str(res))\n"
   ]
  },
  {
   "cell_type": "markdown",
   "id": "975e4981",
   "metadata": {},
   "source": [
    "5. Write a Python program to insertion at the beginning in OrderedDict?"
   ]
  },
  {
   "cell_type": "code",
   "execution_count": 9,
   "id": "5b9df160",
   "metadata": {},
   "outputs": [
    {
     "name": "stdout",
     "output_type": "stream",
     "text": [
      "Resultant Dictionary :\n",
      "OrderedDict([('D', '400'), ('A', '100'), ('B', '200'), ('C', '300')])\n"
     ]
    }
   ],
   "source": [
    "from collections import OrderedDict\n",
    "dic1 = OrderedDict([('A', '100'), ('B', '200'), ('C', '300')])\n",
    "insrt = OrderedDict([(\"D\", '400')])\n",
    "  \n",
    "final = OrderedDict(list(insrt.items()) + list(dic1.items()))\n",
    "  \n",
    "# print result\n",
    "print (\"Resultant Dictionary :\")\n",
    "print(final)"
   ]
  },
  {
   "cell_type": "markdown",
   "id": "d674ac7d",
   "metadata": {},
   "source": [
    "6. Write a Python program to check order of character in string using OrderedDict()?"
   ]
  },
  {
   "cell_type": "code",
   "execution_count": 10,
   "id": "e962826c",
   "metadata": {},
   "outputs": [
    {
     "name": "stdout",
     "output_type": "stream",
     "text": [
      "False\n",
      "True\n"
     ]
    }
   ],
   "source": [
    "from collections import OrderedDict \n",
    "def checkOrder(string, pattern): \n",
    "    dic = OrderedDict.fromkeys(string) \n",
    "    ptr = 0\n",
    "    for key,value in dic.items(): \n",
    "        if (key == pattern[ptr]): \n",
    "            ptr = ptr + 1\n",
    "        if (ptr == (len(pattern))): \n",
    "            return 'True'\n",
    "    return 'False'\n",
    "\n",
    "string = 'Study tonight'\n",
    "pattern = 'stu'\n",
    "print (checkOrder(string,pattern))\n",
    "\n",
    "string2= 'Welcome'\n",
    "pattern2= 'cm'\n",
    "print (checkOrder(string2,pattern2)) "
   ]
  },
  {
   "cell_type": "markdown",
   "id": "dd33725c",
   "metadata": {},
   "source": [
    "7. Write a Python program to sort Python Dictionaries by Key or Value?"
   ]
  },
  {
   "cell_type": "code",
   "execution_count": 11,
   "id": "f0e210ae",
   "metadata": {},
   "outputs": [
    {
     "name": "stdout",
     "output_type": "stream",
     "text": [
      "{'rajnish': 9, 'ravi': 10, 'sanjeev': 15, 'suraj': 32, 'yash': 2}\n"
     ]
    }
   ],
   "source": [
    "myDict = {'ravi': 10, 'rajnish': 9,\n",
    "        'sanjeev': 15, 'yash': 2, 'suraj': 32}\n",
    "\n",
    "myKeys = list(myDict.keys())\n",
    "myKeys.sort()\n",
    "sorted_dict = {i: myDict[i] for i in myKeys}\n",
    "\n",
    "print(sorted_dict)\n"
   ]
  },
  {
   "cell_type": "code",
   "execution_count": null,
   "id": "56492a70",
   "metadata": {},
   "outputs": [],
   "source": []
  }
 ],
 "metadata": {
  "kernelspec": {
   "display_name": "Python 3 (ipykernel)",
   "language": "python",
   "name": "python3"
  },
  "language_info": {
   "codemirror_mode": {
    "name": "ipython",
    "version": 3
   },
   "file_extension": ".py",
   "mimetype": "text/x-python",
   "name": "python",
   "nbconvert_exporter": "python",
   "pygments_lexer": "ipython3",
   "version": "3.11.4"
  }
 },
 "nbformat": 4,
 "nbformat_minor": 5
}
