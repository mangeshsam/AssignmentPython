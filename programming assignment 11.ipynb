{
 "cells": [
  {
   "cell_type": "markdown",
   "id": "b6d67bfc",
   "metadata": {},
   "source": [
    "1. Write a Python program to find words which are greater than given length k?"
   ]
  },
  {
   "cell_type": "code",
   "execution_count": 6,
   "id": "74b286eb",
   "metadata": {},
   "outputs": [
    {
     "name": "stdout",
     "output_type": "stream",
     "text": [
      "['geek', 'mangesh']\n"
     ]
    }
   ],
   "source": [
    "def string_k(k, str):\n",
    "    string = []\n",
    "    text = str.split(\" \")\n",
    "    for x in text:\n",
    "        if len(x) > k:\n",
    "            string.append(x)\n",
    "    return string\n",
    "k = 3\n",
    "str = \"geek for al mangesh j ooh\"\n",
    "print(string_k(k, str))\n"
   ]
  },
  {
   "cell_type": "markdown",
   "id": "c5a649c0",
   "metadata": {},
   "source": [
    "2. Write a Python program for removing i-th character from a string?"
   ]
  },
  {
   "cell_type": "code",
   "execution_count": 12,
   "id": "4b848729",
   "metadata": {},
   "outputs": [
    {
     "name": "stdout",
     "output_type": "stream",
     "text": [
      "Result:  i a mangesh\n"
     ]
    }
   ],
   "source": [
    "def remove_ith_character(input_string, i):\n",
    "    if i < 0 or i >= len(input_string):\n",
    "        return \"Index out of range\"\n",
    "    else:\n",
    "        return input_string[:i] + input_string[i + 1:]\n",
    "input_string = \" i am mangesh\"\n",
    "i = 4\n",
    "result = remove_ith_character(input_string, i)\n",
    "print(f\"Result: {result}\")\n"
   ]
  },
  {
   "cell_type": "markdown",
   "id": "f0c2f55a",
   "metadata": {},
   "source": [
    "3. Write a Python program to split and join a string?"
   ]
  },
  {
   "cell_type": "code",
   "execution_count": 14,
   "id": "6d5f2607",
   "metadata": {},
   "outputs": [
    {
     "name": "stdout",
     "output_type": "stream",
     "text": [
      "The split_string is: ['i', 'am', 'mangesh', 'sambare']\n",
      "The join string is: i-am-mangesh-sambare\n"
     ]
    }
   ],
   "source": [
    "def split_string(string):\n",
    "    list_string = string.split(' ')\n",
    "    return list_string\n",
    "\n",
    "def join_string(list_string):\n",
    "    string = '-'.join(list_string)\n",
    "    return string\n",
    "if __name__ == '__main__':\n",
    "    string = 'i am mangesh sambare'\n",
    "    list_string = split_string(string)\n",
    "    print( \"The split_string is:\",list_string)\n",
    "    new_string = join_string(list_string)\n",
    "    print(\"The join string is:\",new_string)\n"
   ]
  },
  {
   "cell_type": "markdown",
   "id": "bf7cb965",
   "metadata": {},
   "source": [
    "4. Write a Python to check if a given string is binary string or not?"
   ]
  },
  {
   "cell_type": "code",
   "execution_count": 1,
   "id": "fd2eff0c",
   "metadata": {},
   "outputs": [
    {
     "name": "stdout",
     "output_type": "stream",
     "text": [
      "Yes\n"
     ]
    }
   ],
   "source": [
    "def check(string):\n",
    "    p = set(string)\n",
    "    s = {'0', '1'}\n",
    "    if s == p or p == {'0'} or p == {'1'}:\n",
    "        print(\"Yes\")\n",
    "    else:\n",
    "        print(\"No\")\n",
    "if __name__ == \"__main__\":\n",
    "    string = \"101010000111\"\n",
    "    check(string)\n"
   ]
  },
  {
   "cell_type": "markdown",
   "id": "e8d5f531",
   "metadata": {},
   "source": [
    "5. Write a Python program to find uncommon words from two Strings?"
   ]
  },
  {
   "cell_type": "code",
   "execution_count": 5,
   "id": "0a91a0a6",
   "metadata": {},
   "outputs": [
    {
     "name": "stdout",
     "output_type": "stream",
     "text": [
      "Enther the 1st string: mangesh is good\n",
      "Enther the 2st string: mangesh is good but handsome also\n",
      "['also', 'but', 'handsome']\n"
     ]
    }
   ],
   "source": [
    "a=input(\"Enther the 1st string: \")\n",
    "A=a.split()\n",
    "b=input(\"Enther the 2st string: \")\n",
    "B=b.split()\n",
    "m=[]\n",
    "for i in A:\n",
    "    if i not in B:\n",
    "        m.append(i)\n",
    "for j in B:\n",
    "    if j not in A:\n",
    "        m.append(j)\n",
    "m=list(set(m))\n",
    "print(m)"
   ]
  },
  {
   "cell_type": "markdown",
   "id": "e1bb7603",
   "metadata": {},
   "source": [
    "6. Write a Python to find all duplicate characters in string?"
   ]
  },
  {
   "cell_type": "code",
   "execution_count": 7,
   "id": "7beba3e7",
   "metadata": {},
   "outputs": [
    {
     "name": "stdout",
     "output_type": "stream",
     "text": [
      "Enther the 1st string: mangesh is good boy\n",
      "Enther the 2st string: mangesh is good boy but handsome also\n",
      "['good', 'boy', 'is', 'mangesh']\n"
     ]
    }
   ],
   "source": [
    "a=input(\"Enther the 1st string: \")\n",
    "A=a.split()\n",
    "b=input(\"Enther the 2st string: \")\n",
    "B=b.split()\n",
    "m=[]\n",
    "for i in A:\n",
    "    if i in B:\n",
    "        m.append(i)\n",
    "for j in B:\n",
    "    if j in A:\n",
    "        m.append(j)\n",
    "m=list(set(m))\n",
    "print(m)"
   ]
  },
  {
   "cell_type": "markdown",
   "id": "64a0c556",
   "metadata": {},
   "source": [
    "7. Write a Python Program to check if a string contains any special character?"
   ]
  },
  {
   "cell_type": "code",
   "execution_count": 11,
   "id": "505a048f",
   "metadata": {},
   "outputs": [
    {
     "name": "stdout",
     "output_type": "stream",
     "text": [
      "String is accepted\n"
     ]
    }
   ],
   "source": [
    "import re\n",
    "def run(string):\n",
    "    regex = re.compile('[@_!#$%^&*()<>?/\\|}{~:]')\n",
    "    if regex.search(string):\n",
    "        print(\"String is accepted\")\n",
    "    else:\n",
    "        print(\"String is not accepted.\")\n",
    "if __name__ == '__main__' :\n",
    "    string = \"Geeks$For$Geeks\"\n",
    "    run(string)\n"
   ]
  },
  {
   "cell_type": "code",
   "execution_count": null,
   "id": "3c456a57",
   "metadata": {},
   "outputs": [],
   "source": []
  }
 ],
 "metadata": {
  "kernelspec": {
   "display_name": "Python 3 (ipykernel)",
   "language": "python",
   "name": "python3"
  },
  "language_info": {
   "codemirror_mode": {
    "name": "ipython",
    "version": 3
   },
   "file_extension": ".py",
   "mimetype": "text/x-python",
   "name": "python",
   "nbconvert_exporter": "python",
   "pygments_lexer": "ipython3",
   "version": "3.11.4"
  }
 },
 "nbformat": 4,
 "nbformat_minor": 5
}
