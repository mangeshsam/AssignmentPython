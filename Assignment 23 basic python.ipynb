{
 "cells": [
  {
   "cell_type": "markdown",
   "id": "29aa7708",
   "metadata": {},
   "source": [
    "1) What is the result of the code, and why?\n",
    "\n",
    "    def func(a, b=6, c=8):print(a, b, c)\n",
    "\n",
    "    func(1, 2)"
   ]
  },
  {
   "cell_type": "code",
   "execution_count": null,
   "id": "f5724e31",
   "metadata": {},
   "outputs": [],
   "source": [
    "The line func() takes two values, that is 1 and 2 respectively, but the func() is defined to take 3 values,\n",
    "as in func() we pass only two values, the third value comes from the default value, that is c = 8."
   ]
  },
  {
   "cell_type": "code",
   "execution_count": 1,
   "id": "68a2081c",
   "metadata": {},
   "outputs": [
    {
     "name": "stdout",
     "output_type": "stream",
     "text": [
      "1 2 8\n"
     ]
    }
   ],
   "source": [
    "def func(a, b=6, c=8): \n",
    "    print(a, b, c)\n",
    "func(1, 2)"
   ]
  },
  {
   "cell_type": "markdown",
   "id": "27e8ed47",
   "metadata": {},
   "source": [
    "2) What is the result of this code, and why?\n",
    "\n",
    "    def func(a, b, c=5):print(a, b, c)\n",
    "    \n",
    "    func(1, c=3, b=2)"
   ]
  },
  {
   "cell_type": "code",
   "execution_count": null,
   "id": "045f149f",
   "metadata": {},
   "outputs": [],
   "source": [
    "The line func() takes three values, that is 1 , c= 3 snd b = 2 respectively,the func() is defined to take 3 values,\n",
    "as in func() we pass othree values,the default values gets overwritten, and we get the newly passed values."
   ]
  },
  {
   "cell_type": "code",
   "execution_count": 2,
   "id": "09b997bd",
   "metadata": {},
   "outputs": [
    {
     "name": "stdout",
     "output_type": "stream",
     "text": [
      "1 2 3\n"
     ]
    }
   ],
   "source": [
    "def func(a,b,c=5):\n",
    "    print(a,b,c)\n",
    "func(1,c=3,b=2)"
   ]
  },
  {
   "cell_type": "markdown",
   "id": "967bd556",
   "metadata": {},
   "source": [
    "3) How about this code: what is its result, and why?\n",
    "\n",
    "    def func(a, *pargs):print(a, pargs)\n",
    "\n",
    "    func(1, 2, 3)"
   ]
  },
  {
   "cell_type": "markdown",
   "id": "bb34c9a5",
   "metadata": {},
   "source": [
    "The special syntax pargs in function definitions in python is used to pass a variable number of arguments to a function. It is used to pass a non-key worded, variable-length argument list. The syntax is to use the symbol to take in a variable number of arguments; by convention, it is often used with the word args."
   ]
  },
  {
   "cell_type": "code",
   "execution_count": 5,
   "id": "3ca03a7b",
   "metadata": {},
   "outputs": [
    {
     "name": "stdout",
     "output_type": "stream",
     "text": [
      "1 (2, 3)\n"
     ]
    }
   ],
   "source": [
    "def func(a, *pargs):\n",
    "    print(a, pargs)\n",
    "func(1, 2, 3)"
   ]
  },
  {
   "cell_type": "markdown",
   "id": "c9e49372",
   "metadata": {},
   "source": [
    "4) What does this code print, and why?\n",
    "\n",
    "    def func(a, **kargs):print(a, kargs)\n",
    "\n",
    "    func(a=1, c=3, b=2)"
   ]
  },
  {
   "cell_type": "code",
   "execution_count": null,
   "id": "b0ed7092",
   "metadata": {},
   "outputs": [],
   "source": [
    "The special syntax **kargs in function definitions in python is used to pass a keyworded, variable-length argument list. \n",
    "We use the name kwargs with the double star. \n",
    "The reason is because the double star allows us to pass through keyword arguments (and any number of them)."
   ]
  },
  {
   "cell_type": "code",
   "execution_count": 6,
   "id": "dd61b5e1",
   "metadata": {},
   "outputs": [
    {
     "name": "stdout",
     "output_type": "stream",
     "text": [
      "1 {'c': 3, 'b': 2}\n"
     ]
    }
   ],
   "source": [
    "def func(a, **kargs):\n",
    "    print(a, kargs)\n",
    "func(a=1, c=3, b=2)"
   ]
  },
  {
   "cell_type": "markdown",
   "id": "d406efab",
   "metadata": {},
   "source": [
    "5) What gets printed by this, and explain?\n",
    "\n",
    "    def func(a, b, c=8, d=5): print(a, b, c, d)\n",
    "\n",
    "    func(1, *(5, 6))"
   ]
  },
  {
   "cell_type": "code",
   "execution_count": 7,
   "id": "5376b72d",
   "metadata": {},
   "outputs": [
    {
     "name": "stdout",
     "output_type": "stream",
     "text": [
      "1 5 6 5\n"
     ]
    }
   ],
   "source": [
    "def func(a, b, c=8, d=5): \n",
    "    print(a, b, c, d)\n",
    "func(1, *(5, 6))"
   ]
  },
  {
   "cell_type": "markdown",
   "id": "5d7ff50c",
   "metadata": {},
   "source": [
    "6) what is the result of this, and explain?\n",
    "\n",
    "def func(a, b, c): a = 2; b[0] = 'x'; c['a'] = 'y'\n",
    "\n",
    "l=1; m=[1]; n={'a':0}\n",
    "\n",
    "func(l, m, n)"
   ]
  },
  {
   "cell_type": "code",
   "execution_count": 12,
   "id": "1964e16c",
   "metadata": {},
   "outputs": [],
   "source": [
    "def func(a, b, c): \n",
    "    a = 2; b[0] = 'x'; c['a'] = 'y'\n",
    "l=1; m=[1]; n={'a':0}\n",
    "func(l, m, n)"
   ]
  },
  {
   "cell_type": "code",
   "execution_count": 11,
   "id": "95df80f1",
   "metadata": {},
   "outputs": [],
   "source": []
  },
  {
   "cell_type": "code",
   "execution_count": null,
   "id": "d4bbff1d",
   "metadata": {},
   "outputs": [],
   "source": []
  },
  {
   "cell_type": "code",
   "execution_count": null,
   "id": "1e6185be",
   "metadata": {},
   "outputs": [],
   "source": []
  },
  {
   "cell_type": "code",
   "execution_count": null,
   "id": "2e6c0cb5",
   "metadata": {},
   "outputs": [],
   "source": []
  },
  {
   "cell_type": "code",
   "execution_count": null,
   "id": "f700c10d",
   "metadata": {},
   "outputs": [],
   "source": []
  }
 ],
 "metadata": {
  "kernelspec": {
   "display_name": "Python 3 (ipykernel)",
   "language": "python",
   "name": "python3"
  },
  "language_info": {
   "codemirror_mode": {
    "name": "ipython",
    "version": 3
   },
   "file_extension": ".py",
   "mimetype": "text/x-python",
   "name": "python",
   "nbconvert_exporter": "python",
   "pygments_lexer": "ipython3",
   "version": "3.11.4"
  }
 },
 "nbformat": 4,
 "nbformat_minor": 5
}
